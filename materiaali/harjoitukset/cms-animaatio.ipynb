{
 "cells": [
  {
   "cell_type": "markdown",
   "metadata": {},
   "source": [
    "# CMS animaatio"
   ]
  },
  {
   "cell_type": "markdown",
   "metadata": {},
   "source": [
    "Tässä notebookissa tehdään animaatio, joka näyttää, miten piikki histogrammissa muodostuu datamäärän kertyessä suuremmaksi. Suorita kaikki koodisolut. Viimeisen solun suorittamisen jälkeen animaatio ilmestyy näytölle (tässä voi mennä muutama minuutti)."
   ]
  },
  {
   "cell_type": "code",
   "execution_count": null,
   "metadata": {},
   "outputs": [],
   "source": [
    "# Tuodaan paketit\n",
    "import pandas as pd\n",
    "import matplotlib.pyplot as plt\n",
    "import matplotlib.animation\n",
    "\n",
    "# Luetaan data ja valitaan tapahtumat, joissa invariantti massa on välillä 80 GeV - 100 GeV.\n",
    "# Data koostuu törmäystapahtumista, joissa on havaittu kaksi myonia.\n",
    "muons = pd.read_csv('Dimuon_DoubleMu.csv')\n",
    "data = muons[(muons['M'] > 80) & (muons['M'] < 100)]['M']"
   ]
  },
  {
   "cell_type": "code",
   "execution_count": null,
   "metadata": {},
   "outputs": [],
   "source": [
    "# Määritetään funktio, joka päivittää histogrammin\n",
    "# num-parametri kertoo, monesko \"frame\" on menossa\n",
    "def updt_hist(num, data):\n",
    "    plt.cla() # pyyhitään vanha histogrammi pois\n",
    "    plt.ylim(0,40) # kiinnitetään y-akselin rajat\n",
    "    plt.xlim(80,100) # kiinnitetään x-akselin rajat\n",
    "    plt.title(f'Events: {num*5}', fontsize=15) # otsikko\n",
    "    plt.xlabel('Invariant mass of two muons (GeV)', fontsize=15)\n",
    "    plt.ylabel('Events per bin', fontsize=15)\n",
    "    # lisätään histogrammiin aina 5 datapistettä joka \"framella\".\n",
    "    plt.hist(data[:num*5], bins = 80)"
   ]
  },
  {
   "cell_type": "code",
   "execution_count": null,
   "metadata": {},
   "outputs": [],
   "source": [
    "%%capture\n",
    "# tämä ns. magic-funktio estää ylimääräisiä frameja ponnahtamasta esiin kesken animaation.\n",
    "\n",
    "# Alustetaan kuvaaja\n",
    "fig = plt.figure(figsize=(15,10))\n",
    "\n",
    "# Luodaan animaatio, jossa 150 kuvaa.\n",
    "anim = matplotlib.animation.FuncAnimation(fig, updt_hist, frames = 150, fargs = (data,))\n",
    "\n",
    "# Tehdään animaatiosta HTML representaatio\n",
    "from IPython.display import HTML\n",
    "HTML(anim.to_jshtml())"
   ]
  },
  {
   "cell_type": "code",
   "execution_count": null,
   "metadata": {},
   "outputs": [],
   "source": [
    "# Kun olet ajanut tämän solun, scrollaa alaspäin niin näet animaation.\n",
    "HTML(anim.to_jshtml())"
   ]
  }
 ],
 "metadata": {
  "kernelspec": {
   "display_name": "Python 3",
   "language": "python",
   "name": "python3"
  },
  "language_info": {
   "codemirror_mode": {
    "name": "ipython",
    "version": 3
   },
   "file_extension": ".py",
   "mimetype": "text/x-python",
   "name": "python",
   "nbconvert_exporter": "python",
   "pygments_lexer": "ipython3",
   "version": "3.8.5"
  }
 },
 "nbformat": 4,
 "nbformat_minor": 2
}
