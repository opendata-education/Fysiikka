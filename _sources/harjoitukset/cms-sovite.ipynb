{
 "cells": [
  {
   "cell_type": "markdown",
   "id": "sustained-reggae",
   "metadata": {},
   "source": [
    "# Funktion sovittaminen histogrammiin"
   ]
  },
  {
   "cell_type": "markdown",
   "id": "transparent-mountain",
   "metadata": {},
   "source": [
    "Tutustutaan tässä harjoituksessa siihen, miten histogrammiin voidaan tehdä sovite. Sovite on erinomainen työkalu, kun halutaan selvittää esimerkiksi jakauman odotusarvo ja hajonta. Hiukkasfysiikan tapauksessa tämä tulee kyseeseen, kun pyritään selvittämään histogrammissa olevan piikin paikkaa ja leveyttä.\n",
    "\n",
    "Tutkitaan hiukkasfysiikan dataa sellaisista törmäyksistä, joissa on havaittu kaksi myonia. Data on haettu CERN:n avoin data portaalista ja se löytyy tämän notebookin kanssa samasta hakemistosta nimellä \"Dimuon_DoubleMu.csv\"."
   ]
  },
  {
   "cell_type": "markdown",
   "id": "common-sullivan",
   "metadata": {},
   "source": [
    "## Datan hakeminen ja piirtäminen"
   ]
  },
  {
   "cell_type": "code",
   "execution_count": null,
   "id": "herbal-cassette",
   "metadata": {},
   "outputs": [],
   "source": [
    "import pandas as pd\n",
    "import matplotlib.pyplot as plt\n",
    "\n",
    "data = pd.read_csv('Dimuon_DoubleMu.csv')\n",
    "data.head()"
   ]
  },
  {
   "cell_type": "code",
   "execution_count": null,
   "id": "collaborative-nothing",
   "metadata": {
    "scrolled": true
   },
   "outputs": [],
   "source": [
    "plt.hist(data['M'], bins=300)\n",
    "plt.show()"
   ]
  },
  {
   "cell_type": "markdown",
   "id": "another-tamil",
   "metadata": {},
   "source": [
    "Rajataan tarkastelumme invariantin massan välille 80 GeV - 100 GeV ja piirretään data tällä välillä. Huom. Tällä kertaa `plt.hist()`-funktion paluuarvot on otettu talteen. Funktiolla on kolme paluuarvoa, joista meitä kiinnostaa kaksi ensimmäistä: histogrammin pylväiden arvot sekä pylväiden reunat."
   ]
  },
  {
   "cell_type": "code",
   "execution_count": null,
   "id": "timely-arrangement",
   "metadata": {},
   "outputs": [],
   "source": [
    "alaraja = 80\n",
    "yläraja = 100\n",
    "pylväitä = 100\n",
    "\n",
    "plt.figure()\n",
    "arvot, reunat, _ = plt.hist(data['M'], bins=pylväitä, range=(alaraja, yläraja))\n",
    "plt.xlabel('Invariantti massa (GeV)')\n",
    "plt.ylabel('Tapahtumien lukumäärä')\n",
    "plt.show()"
   ]
  },
  {
   "cell_type": "markdown",
   "id": "norwegian-labor",
   "metadata": {},
   "source": [
    "## Sovitefunktion määritteleminen"
   ]
  },
  {
   "cell_type": "markdown",
   "id": "welcome-bryan",
   "metadata": {},
   "source": [
    "Tavoitteenamme on tehdä sovite yllä olevaan jakaumaan. Hiukkasfysiikassa yleisesti käytettävä jakaumafunktio on [Breit-Wigner -jakauma](https://en.wikipedia.org/wiki/Relativistic_Breit%E2%80%93Wigner_distribution), mutta käytetään tässä Gaussin jakaumaa, joka ottaa taustatapahtumat myös huomioon.\n",
    "\n",
    "Tällainen Gaussin funktio on muotoa:\n",
    "\n",
    "$f(x) = a\\frac{e^{-(x-\\mu)^2}}{2\\sigma^2} + bx + c$,\n",
    "\n",
    "missä $a$ on kerroin, $\\mu$ odotusarvo, $\\sigma^2$ varianssi ja $b$ ja $c$ taustatapahtumiin liittyviä kertoimia.\n",
    "\n",
    "Määritellään funktio:"
   ]
  },
  {
   "cell_type": "code",
   "execution_count": null,
   "id": "metric-thomas",
   "metadata": {},
   "outputs": [],
   "source": [
    "import numpy as np\n",
    "\n",
    "def gauss(x, *p):\n",
    "    a, mu, sigma, b, c = p\n",
    "    return a*np.exp(-(x-mu)**2/(2.*sigma**2)) + b*x + c"
   ]
  },
  {
   "cell_type": "markdown",
   "id": "approved-thousand",
   "metadata": {},
   "source": [
    "## Sovitteen tekeminen"
   ]
  },
  {
   "cell_type": "markdown",
   "id": "pointed-relevance",
   "metadata": {},
   "source": [
    "Tehdään seuraavaksi sovite scipy-paketin curve_fit -funktiolla. Meidän tulee kuitenkin ensin määrittää pylväiden keskikohdat, jotta sovite osuu oikealle kohdalle."
   ]
  },
  {
   "cell_type": "code",
   "execution_count": null,
   "id": "identified-asian",
   "metadata": {},
   "outputs": [],
   "source": [
    "from scipy.optimize import curve_fit\n",
    "\n",
    "# Pylväiden keskikohdat saadaan ottamalla kahden vierekkäisen reunan keskiarvo\n",
    "keskikohdat = (reunat[:-1] + reunat[1:])/2\n",
    "\n",
    "# Sovitetta varten tarvitaan sopivat alkuarvaukset. Jos sovite epäonnistuu, kokeile jotain muita alkuarvoja\n",
    "# Alkuarvot ovat järjestyksessä a, mu, sigma, b, c\n",
    "p0 = [100, 90, 1, 1, 1]\n",
    "\n",
    "# Lasketaan optimaaliset kertoimet\n",
    "kertoimet, _ = curve_fit(gauss, keskikohdat, arvot, p0=p0)\n",
    "\n",
    "# Lasketaan sovite kertoimien avulla\n",
    "sovite = gauss(keskikohdat, *kertoimet)\n",
    "\n",
    "# Piirretään alkuperäinen histogrammi sekä sovitefunktio\n",
    "plt.hist(data['M'], bins=pylväitä, range=(alaraja, yläraja))\n",
    "plt.plot(keskikohdat, sovite, label='Sovite')\n",
    "plt.xlabel('Invariantti massa (GeV)')\n",
    "plt.ylabel('Tapahtumien lukumäärä')\n",
    "\n",
    "# Tulostetaan odotusarvo ja piikin leveys (FWHM)\n",
    "print('Odotusarvo = ', kertoimet[1])\n",
    "print('Piikin leveys = ', 2*np.sqrt(2*np.log(2))*kertoimet[2])\n",
    "\n",
    "plt.show()"
   ]
  },
  {
   "cell_type": "markdown",
   "id": "valid-party",
   "metadata": {},
   "source": [
    "Tämän tuloksen perusteella saamme Z-bosonin massaksi noin 90,86 GeV. Kokeile, saatko sovitettua [Breit-Wigner -jakauman](https://en.wikipedia.org/wiki/Relativistic_Breit%E2%80%93Wigner_distribution) histogrammiin. Onko sovite parempi kuin Gaussin jakauma? Kokeile myös, miten pylväiden lukumäärän muuttaminen vaikuttaa tulokseen."
   ]
  }
 ],
 "metadata": {
  "kernelspec": {
   "display_name": "Python 3",
   "language": "python",
   "name": "python3"
  },
  "language_info": {
   "codemirror_mode": {
    "name": "ipython",
    "version": 3
   },
   "file_extension": ".py",
   "mimetype": "text/x-python",
   "name": "python",
   "nbconvert_exporter": "python",
   "pygments_lexer": "ipython3",
   "version": "3.8.5"
  }
 },
 "nbformat": 4,
 "nbformat_minor": 5
}
